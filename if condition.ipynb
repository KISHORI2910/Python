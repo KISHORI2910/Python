{
 "cells": [
  {
   "cell_type": "code",
   "execution_count": 1,
   "metadata": {},
   "outputs": [
    {
     "name": "stdout",
     "output_type": "stream",
     "text": [
      "Variable x is less than y\n"
     ]
    }
   ],
   "source": [
    "x = 20\n",
    "y = 22\n",
    "if x < y:\n",
    "    print(\"Variable x is less than y\")"
   ]
  },
  {
   "cell_type": "code",
   "execution_count": 1,
   "metadata": {},
   "outputs": [
    {
     "name": "stdout",
     "output_type": "stream",
     "text": [
      "how many KG does your suitcase weight? 30\n",
      "There is a Rs.2000 charge for luggage that heavy.\n"
     ]
    }
   ],
   "source": [
    "weight = float(input(\"how many KG does your suitcase weight? \"))\n",
    "if weight > 25:\n",
    "    print(\"There is a Rs.2000 charge for luggage that heavy.\")"
   ]
  },
  {
   "cell_type": "code",
   "execution_count": 3,
   "metadata": {},
   "outputs": [
    {
     "name": "stdout",
     "output_type": "stream",
     "text": [
      "How many days in a leap year?366\n",
      "Your ans is corect.\n"
     ]
    }
   ],
   "source": [
    "days = int(input(\"How many days in a leap year?\"))\n",
    "if days == 366:\n",
    "    print(\"Your ans is corect.\")"
   ]
  },
  {
   "cell_type": "code",
   "execution_count": 7,
   "metadata": {},
   "outputs": [
    {
     "name": "stdout",
     "output_type": "stream",
     "text": [
      "Your password is correct.\n"
     ]
    }
   ],
   "source": [
    "password = \"Kishori\"\n",
    "if password == \"Kishori\":\n",
    "    print(\"Your password is correct.\")"
   ]
  },
  {
   "cell_type": "code",
   "execution_count": 6,
   "metadata": {},
   "outputs": [
    {
     "name": "stdout",
     "output_type": "stream",
     "text": [
      "Enter a negative number: -56\n",
      "You entered correct number.\n"
     ]
    }
   ],
   "source": [
    "number = int(input(\"Enter a negative number: \"))\n",
    "if number < 0:\n",
    "    print(\"You entered correct number.\")\n"
   ]
  },
  {
   "cell_type": "code",
   "execution_count": 1,
   "metadata": {},
   "outputs": [
    {
     "name": "stdout",
     "output_type": "stream",
     "text": [
      "Enter your marks: 90\n",
      "You are passed the exam.\n"
     ]
    }
   ],
   "source": [
    "marks = float(input(\"Enter your marks: \"))\n",
    "if marks > 35:\n",
    "    print(\"You are passed the exam.\")"
   ]
  },
  {
   "cell_type": "code",
   "execution_count": 2,
   "metadata": {},
   "outputs": [
    {
     "name": "stdout",
     "output_type": "stream",
     "text": [
      "c is the smallest number.\n"
     ]
    }
   ],
   "source": [
    "a = 25\n",
    "b = 12\n",
    "c = 10\n",
    "if a > b > c:\n",
    "    print(\"c is the smallest number.\")"
   ]
  },
  {
   "cell_type": "code",
   "execution_count": 3,
   "metadata": {},
   "outputs": [
    {
     "name": "stdout",
     "output_type": "stream",
     "text": [
      "Enter your age: 20\n",
      "You are eligible for votting.\n"
     ]
    }
   ],
   "source": [
    "age = int(input(\"Enter your age: \"))\n",
    "if age >= 18:\n",
    "    print(\"You are eligible for voting.\")"
   ]
  },
  {
   "cell_type": "code",
   "execution_count": 1,
   "metadata": {},
   "outputs": [
    {
     "name": "stdout",
     "output_type": "stream",
     "text": [
      "Number is positive.\n"
     ]
    }
   ],
   "source": [
    "var = 16\n",
    "if var > 0:\n",
    "    print(\"Number is positive.\")"
   ]
  },
  {
   "cell_type": "code",
   "execution_count": 2,
   "metadata": {},
   "outputs": [
    {
     "name": "stdout",
     "output_type": "stream",
     "text": [
      "Hello...\n"
     ]
    }
   ],
   "source": [
    "x = 5\n",
    "if x == 5:\n",
    "    print(\"Hello...\")"
   ]
  },
  {
   "cell_type": "code",
   "execution_count": null,
   "metadata": {},
   "outputs": [],
   "source": []
  }
 ],
 "metadata": {
  "kernelspec": {
   "display_name": "Python 3",
   "language": "python",
   "name": "python3"
  },
  "language_info": {
   "codemirror_mode": {
    "name": "ipython",
    "version": 3
   },
   "file_extension": ".py",
   "mimetype": "text/x-python",
   "name": "python",
   "nbconvert_exporter": "python",
   "pygments_lexer": "ipython3",
   "version": "3.8.3"
  }
 },
 "nbformat": 4,
 "nbformat_minor": 4
}
