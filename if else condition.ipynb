{
 "cells": [
  {
   "cell_type": "code",
   "execution_count": 2,
   "metadata": {},
   "outputs": [
    {
     "name": "stdout",
     "output_type": "stream",
     "text": [
      "X is greater.\n"
     ]
    }
   ],
   "source": [
    "x = 10\n",
    "y = 5\n",
    "if x > y:\n",
    "    print(\"X is greater.\")\n",
    "else:\n",
    "    print(\"Y is greater.\")"
   ]
  },
  {
   "cell_type": "code",
   "execution_count": 3,
   "metadata": {},
   "outputs": [
    {
     "name": "stdout",
     "output_type": "stream",
     "text": [
      "Enter a number.45\n",
      "Number is positive or zero.\n"
     ]
    }
   ],
   "source": [
    "num = int(input(\"Enter a number.\"))\n",
    "if num >= 0:\n",
    "    print(\"Number is positive or zero.\")\n",
    "else:\n",
    "    print(\"Number is negative.\")"
   ]
  },
  {
   "cell_type": "code",
   "execution_count": 4,
   "metadata": {},
   "outputs": [
    {
     "name": "stdout",
     "output_type": "stream",
     "text": [
      "Enter a positive number.56\n",
      "Number is even number.\n"
     ]
    }
   ],
   "source": [
    "num = int(input(\"Enter a positive number.\"))\n",
    "if num % 2 == 0:\n",
    "    print(\"Number is even number.\")\n",
    "else:\n",
    "    print(\"Number is odd number.\")"
   ]
  },
  {
   "cell_type": "code",
   "execution_count": 6,
   "metadata": {},
   "outputs": [
    {
     "name": "stdout",
     "output_type": "stream",
     "text": [
      "Your password is correct.\n"
     ]
    }
   ],
   "source": [
    "password = \"Kishori\"\n",
    "if password == \"Kishori\":\n",
    "    print(\"Your password is correct.\")\n",
    "else:\n",
    "    print(\"Re-enter your password.\")"
   ]
  },
  {
   "cell_type": "code",
   "execution_count": 7,
   "metadata": {},
   "outputs": [
    {
     "name": "stdout",
     "output_type": "stream",
     "text": [
      "Enter your age: 10\n",
      "You are not eligible for voting.\n"
     ]
    }
   ],
   "source": [
    "age = int(input(\"Enter your age: \"))\n",
    "if age >= 18:\n",
    "    print(\"Your are eligible for voting.\")\n",
    "else:\n",
    "    print(\"You are not eligible for voting.\")"
   ]
  },
  {
   "cell_type": "code",
   "execution_count": 8,
   "metadata": {},
   "outputs": [
    {
     "name": "stdout",
     "output_type": "stream",
     "text": [
      "Enter your marks:56.90\n",
      "PASS.\n"
     ]
    }
   ],
   "source": [
    "marks = float(input(\"Enter your marks:\"))\n",
    "if marks >= 35.00:\n",
    "    print(\"PASS.\")\n",
    "else:\n",
    "    print(\"FAIL.\")"
   ]
  },
  {
   "cell_type": "code",
   "execution_count": 9,
   "metadata": {},
   "outputs": [
    {
     "name": "stdout",
     "output_type": "stream",
     "text": [
      "How many days in leap year.365\n",
      "Your ans is wrong.\n"
     ]
    }
   ],
   "source": [
    "ans = int(input(\"How many days in leap year.\"))\n",
    "if ans == 366:\n",
    "    print(\"Your ans is correct.\")\n",
    "else:\n",
    "    print(\"Your ans is wrong.\")"
   ]
  },
  {
   "cell_type": "code",
   "execution_count": 11,
   "metadata": {},
   "outputs": [
    {
     "name": "stdout",
     "output_type": "stream",
     "text": [
      "Sum of x and y.20\n",
      "Please check your addition.\n"
     ]
    }
   ],
   "source": [
    "x = 5\n",
    "y = 10\n",
    "sum = int(input(\"Sum of x and y. : \"))\n",
    "if sum == 15:\n",
    "    print(\"Addition is correct.\")\n",
    "else:\n",
    "    print(\"Please check your addition.\")"
   ]
  },
  {
   "cell_type": "code",
   "execution_count": 12,
   "metadata": {},
   "outputs": [
    {
     "name": "stdout",
     "output_type": "stream",
     "text": [
      "enter a number: 60\n",
      "Number is divisible by 3.\n"
     ]
    }
   ],
   "source": [
    "num = int(input(\"enter a number: \"))\n",
    "if num % 3 == 0:\n",
    "    print(\"Number is divisible by 3.\")\n",
    "else:\n",
    "    print(\"NUmber is not divisible by 3.\")"
   ]
  },
  {
   "cell_type": "code",
   "execution_count": null,
   "metadata": {},
   "outputs": [],
   "source": []
  }
 ],
 "metadata": {
  "kernelspec": {
   "display_name": "Python 3",
   "language": "python",
   "name": "python3"
  },
  "language_info": {
   "codemirror_mode": {
    "name": "ipython",
    "version": 3
   },
   "file_extension": ".py",
   "mimetype": "text/x-python",
   "name": "python",
   "nbconvert_exporter": "python",
   "pygments_lexer": "ipython3",
   "version": "3.8.3"
  }
 },
 "nbformat": 4,
 "nbformat_minor": 4
}
