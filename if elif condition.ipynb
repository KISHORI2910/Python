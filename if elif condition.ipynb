{
 "cells": [
  {
   "cell_type": "code",
   "execution_count": 1,
   "metadata": {},
   "outputs": [
    {
     "name": "stdout",
     "output_type": "stream",
     "text": [
      "Enter a number:700\n",
      "Three digit number.\n"
     ]
    }
   ],
   "source": [
    "num = int(input(\"Enter a number:\"))\n",
    "if 9 < num < 99:\n",
    "    print(\"Two digit number.\")\n",
    "elif 99 < num < 999:\n",
    "    print(\"Three digit number.\")\n",
    "elif 999 < num < 9999:\n",
    "    print(\"Four digit number.\")\n",
    "else:\n",
    "    print(\"number is <= 9 or >= 9999\")"
   ]
  },
  {
   "cell_type": "code",
   "execution_count": 2,
   "metadata": {},
   "outputs": [
    {
     "name": "stdout",
     "output_type": "stream",
     "text": [
      "Enter a number:0\n",
      "You Enter zero.\n"
     ]
    }
   ],
   "source": [
    "num = int(input(\"Enter a number:\"))\n",
    "if num > 0:\n",
    "    print(\"Positive number.\")\n",
    "elif num < 0:\n",
    "    print(\"Negative number.\")\n",
    "else:\n",
    "    print(\"You Enter zero.\")\n",
    "    "
   ]
  },
  {
   "cell_type": "code",
   "execution_count": 3,
   "metadata": {},
   "outputs": [
    {
     "name": "stdout",
     "output_type": "stream",
     "text": [
      "Enter your marks: 23\n",
      "Fail...\n"
     ]
    }
   ],
   "source": [
    "marks = float(input(\"Enter your marks: \"))\n",
    "if marks > 70.00:\n",
    "    print(\"Distinction...\")\n",
    "elif 70.00 > marks > 60.00:\n",
    "    print(\"Grade A...\")\n",
    "elif 60.00 > marks > 50.00:\n",
    "    print(\"Grade B...\")\n",
    "elif 50.00 > marks >35.00:\n",
    "    print(\"Passed...\")\n",
    "else:\n",
    "    print(\"Fail...\")"
   ]
  },
  {
   "cell_type": "code",
   "execution_count": 5,
   "metadata": {},
   "outputs": [
    {
     "name": "stdout",
     "output_type": "stream",
     "text": [
      "This is a consonant.\n"
     ]
    }
   ],
   "source": [
    "var = 'z'\n",
    "if var == 'a':\n",
    "    print(\"This is the vowel a.\")\n",
    "elif var == 'e':\n",
    "    print(\"This is the vowel e.\")\n",
    "elif var == 'i':\n",
    "    print(\"This is the vowel i.\")\n",
    "elif var == 'o':\n",
    "    print(\"This is the vowel o.\")\n",
    "elif var == 'u':\n",
    "    print(\"This is the vowel u.\")\n",
    "else:\n",
    "    print(\"This is a consonant.\")\n",
    "    "
   ]
  },
  {
   "cell_type": "code",
   "execution_count": 6,
   "metadata": {},
   "outputs": [
    {
     "name": "stdout",
     "output_type": "stream",
     "text": [
      "C is greater\n"
     ]
    }
   ],
   "source": [
    "a = 10\n",
    "b = 5\n",
    "c = 20\n",
    "if a > b > c:\n",
    "    print(\"A is greater.\")\n",
    "elif b > a > c:\n",
    "    print(\"B is greater.\")\n",
    "else:\n",
    "    print(\"C is greater\")"
   ]
  },
  {
   "cell_type": "code",
   "execution_count": 7,
   "metadata": {},
   "outputs": [
    {
     "name": "stdout",
     "output_type": "stream",
     "text": [
      "Enter your age: 20\n",
      "Adult.\n"
     ]
    }
   ],
   "source": [
    "age = int(input(\"Enter your age: \"))\n",
    "if age >= 18:\n",
    "    print(\"Adult.\")\n",
    "elif age >= 13:\n",
    "    print(\"Teenager.\")\n",
    "else:\n",
    "    print(\"Child.\")"
   ]
  },
  {
   "cell_type": "code",
   "execution_count": null,
   "metadata": {},
   "outputs": [],
   "source": []
  }
 ],
 "metadata": {
  "kernelspec": {
   "display_name": "Python 3",
   "language": "python",
   "name": "python3"
  },
  "language_info": {
   "codemirror_mode": {
    "name": "ipython",
    "version": 3
   },
   "file_extension": ".py",
   "mimetype": "text/x-python",
   "name": "python",
   "nbconvert_exporter": "python",
   "pygments_lexer": "ipython3",
   "version": "3.8.3"
  }
 },
 "nbformat": 4,
 "nbformat_minor": 4
}
